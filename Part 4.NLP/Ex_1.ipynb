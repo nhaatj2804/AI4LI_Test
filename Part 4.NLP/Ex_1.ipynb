{
 "cells": [
  {
   "cell_type": "code",
   "execution_count": 3,
   "metadata": {},
   "outputs": [],
   "source": [
    "from pyvi import ViTokenizer, ViPosTagger\n",
    "from pyvi import ViUtils"
   ]
  },
  {
   "cell_type": "code",
   "execution_count": 4,
   "metadata": {},
   "outputs": [],
   "source": [
    "text = \"Trí tuệ nhân tạo đang thay đổi thế giới.\""
   ]
  },
  {
   "cell_type": "code",
   "execution_count": 5,
   "metadata": {},
   "outputs": [
    {
     "name": "stdout",
     "output_type": "stream",
     "text": [
      "Remove Accents: b'Tri tue nhan tao dang thay doi the gioi.'\n"
     ]
    }
   ],
   "source": [
    "remove_accents = ViUtils.remove_accents(text)\n",
    "print(\"Remove Accents:\", remove_accents)"
   ]
  },
  {
   "cell_type": "code",
   "execution_count": 6,
   "metadata": {},
   "outputs": [
    {
     "name": "stdout",
     "output_type": "stream",
     "text": [
      "Token: Trí_tuệ nhân_tạo đang thay_đổi thế_giới .\n",
      "POS Tag: [('Trí', 'N'), ('tuệ', 'V'), ('nhân', 'V'), ('tạo', 'V'), ('đang', 'R'), ('thay', 'V'), ('đổi', 'V'), ('thế', 'P'), ('giới.', 'V')]\n"
     ]
    }
   ],
   "source": [
    "tokens = ViTokenizer.tokenize(text)\n",
    "pos_tags = ViPosTagger.postagging(text)\n",
    "\n",
    "\n",
    "print(\"Token:\", tokens)\n",
    "print(\"POS Tag:\", list(zip(*pos_tags)))"
   ]
  }
 ],
 "metadata": {
  "kernelspec": {
   "display_name": "myenv",
   "language": "python",
   "name": "python3"
  },
  "language_info": {
   "codemirror_mode": {
    "name": "ipython",
    "version": 3
   },
   "file_extension": ".py",
   "mimetype": "text/x-python",
   "name": "python",
   "nbconvert_exporter": "python",
   "pygments_lexer": "ipython3",
   "version": "3.12.3"
  }
 },
 "nbformat": 4,
 "nbformat_minor": 2
}
